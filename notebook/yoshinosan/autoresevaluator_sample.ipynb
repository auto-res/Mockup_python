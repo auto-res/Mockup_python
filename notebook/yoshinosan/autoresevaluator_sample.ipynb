{
 "cells": [
  {
   "cell_type": "code",
   "execution_count": null,
   "metadata": {},
   "outputs": [],
   "source": [
    "import sys\n",
    "sys.path.append('../..')\n",
    "\n",
    "from src.autoresevaluator.main import AutoResEvaluator"
   ]
  },
  {
   "cell_type": "code",
   "execution_count": null,
   "metadata": {},
   "outputs": [],
   "source": [
    "params = {\n",
    "    'lr': {'type': 'log_float', 'args': [1e-8, 0.1]},\n",
    "    'iterations': {'type': 'log_float', 'args': [100, 1000]},\n",
    "    \"lambda\": 1\n",
    "}"
   ]
  },
  {
   "cell_type": "code",
   "execution_count": null,
   "metadata": {},
   "outputs": [],
   "source": [
    "are = AutoResEvaluator(\n",
    "    llm_name='gpt-4-turbo-preview',\n",
    "    #llm_name='gemini-pro',\n",
    "    #llm_name='claude-3-opus-20240229',\n",
    "    dataset_name='cifar10',\n",
    "    params=params,\n",
    "    valuation_index='accuracy',\n",
    "    datasave_path='../../data',\n",
    "    n_trials=10\n",
    "    )"
   ]
  },
  {
   "cell_type": "code",
   "execution_count": null,
   "metadata": {},
   "outputs": [],
   "source": [
    "model_path = \"autoresevaluatorで実行するモデルのパス\"\n",
    "\n",
    "are.exec(model_path)"
   ]
  }
 ],
 "metadata": {
  "language_info": {
   "name": "python"
  }
 },
 "nbformat": 4,
 "nbformat_minor": 2
}
